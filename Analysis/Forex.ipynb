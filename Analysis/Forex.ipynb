{
 "cells": [
  {
   "cell_type": "code",
   "execution_count": null,
   "metadata": {},
   "outputs": [],
   "source": [
    "from datetime import datetime\n",
    "import matplotlib.pyplot as plt\n",
    "import pandas as pd\n",
    "from pandas.plotting import register_matplotlib_converters\n",
    "register_matplotlib_converters()\n",
    "import MetaTrader5 as mt5"
   ]
  },
  {
   "cell_type": "code",
   "execution_count": null,
   "metadata": {},
   "outputs": [],
   "source": [
    "if not mt5.initialize():\n",
    "    print(\"initialize() failed\")\n",
    "    mt5.shutdown()\n",
    "\n",
    "print(mt5.terminal_info())\n",
    "print(mt5.version())"
   ]
  },
  {
   "cell_type": "code",
   "execution_count": null,
   "metadata": {},
   "outputs": [],
   "source": [
    "euraud_ticks = mt5.copy_ticks_from(\"EURAUD\", datetime(\n",
    "    2020, 1, 28, 13), 1000, mt5.COPY_TICKS_ALL)\n",
    "audusd_ticks = mt5.copy_ticks_range(\"AUDUSD\", datetime(\n",
    "    2020, 1, 27, 13), datetime(2020, 1, 28, 13), mt5.COPY_TICKS_ALL)\n",
    "\n",
    "eurusd_rates = mt5.copy_rates_from(\n",
    "    \"EURUSD\", mt5.TIMEFRAME_M1, datetime(2020, 1, 28, 13), 1000)\n",
    "eurgbp_rates = mt5.copy_rates_from_pos(\"EURGBP\", mt5.TIMEFRAME_M1, 0, 1000)\n",
    "eurcad_rates = mt5.copy_rates_range(\"EURCAD\", mt5.TIMEFRAME_M1, datetime(\n",
    "    2020, 1, 27, 13), datetime(2020, 1, 28, 13))\n",
    "\n",
    "mt5.shutdown()"
   ]
  },
  {
   "cell_type": "code",
   "execution_count": null,
   "metadata": {},
   "outputs": [],
   "source": [
    "# DATA\n",
    "print('euraud_ticks(', len(euraud_ticks), ')')\n",
    "for val in euraud_ticks[:10]:\n",
    "    print(val)\n",
    "\n",
    "print('audusd_ticks(', len(audusd_ticks), ')')\n",
    "for val in audusd_ticks[:10]:\n",
    "    print(val)\n",
    "\n",
    "print('eurusd_rates(', len(eurusd_rates), ')')\n",
    "for val in eurusd_rates[:10]:\n",
    "    print(val)\n",
    "\n",
    "print('eurgbp_rates(', len(eurgbp_rates), ')')\n",
    "for val in eurgbp_rates[:10]:\n",
    "    print(val)\n",
    "\n",
    "print('eurcad_rates(', len(eurcad_rates), ')')\n",
    "for val in eurcad_rates[:10]:\n",
    "    print(val)"
   ]
  },
  {
   "cell_type": "code",
   "execution_count": null,
   "metadata": {},
   "outputs": [],
   "source": [
    "ticks_frame = pd.DataFrame(euraud_ticks)\n",
    "ticks_frame['time'] = pd.to_datetime(ticks_frame['time'], unit='s')\n",
    "\n",
    "plt.plot(ticks_frame['time'], ticks_frame['ask'], 'r-', label='ask')\n",
    "plt.plot(ticks_frame['time'], ticks_frame['bid'], 'b-', label='bid')\n",
    "\n",
    "plt.legend(loc='upper left')\n",
    "\n",
    "plt.title('EURAUD ticks')\n",
    "\n",
    "plt.show()"
   ]
  }
 ],
 "metadata": {
  "kernelspec": {
   "display_name": "env",
   "language": "python",
   "name": "python3"
  },
  "language_info": {
   "name": "python",
   "version": "3.10.4"
  }
 },
 "nbformat": 4,
 "nbformat_minor": 2
}
