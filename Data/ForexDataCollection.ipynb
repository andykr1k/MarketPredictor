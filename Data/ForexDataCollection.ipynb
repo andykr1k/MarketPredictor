{
 "cells": [
  {
   "cell_type": "code",
   "execution_count": 5,
   "metadata": {},
   "outputs": [],
   "source": [
    "from forex_python.converter import CurrencyRates\n",
    "import pandas as pd\n",
    "from datetime import datetime\n",
    "from tqdm import tqdm\n",
    "from concurrent.futures import ThreadPoolExecutor"
   ]
  },
  {
   "cell_type": "code",
   "execution_count": null,
   "metadata": {},
   "outputs": [
    {
     "name": "stderr",
     "output_type": "stream",
     "text": [
      "/var/folders/15/vdzhjh015bg5yt68s5n8y4bc0000gn/T/ipykernel_55376/3523148257.py:6: FutureWarning: 'T' is deprecated and will be removed in a future version, please use 'min' instead.\n",
      "  date_range = pd.date_range(start=start_date, end=end_date, freq='T')\n",
      "Fetching AUD to CAD rates:   0%|          | 1/1441 [00:00<07:00,  3.42it/s]"
     ]
    },
    {
     "name": "stdout",
     "output_type": "stream",
     "text": [
      "Error on 2025-01-01 00:00:00: Currency Rates Source Not Ready\n",
      "Error on 2025-01-01 00:02:00: Currency Rates Source Not Ready\n",
      "Error on 2025-01-01 00:11:00: Currency Rates Source Not Ready\n",
      "Error on 2025-01-01 00:04:00: Currency Rates Source Not Ready\n",
      "Error on 2025-01-01 00:13:00: Currency Rates Source Not Ready\n",
      "Error on 2025-01-01 00:14:00: Currency Rates Source Not Ready\n",
      "Error on 2025-01-01 00:15:00: Currency Rates Source Not Ready\n",
      "Error on 2025-01-01 00:16:00: Currency Rates Source Not Ready\n"
     ]
    },
    {
     "name": "stderr",
     "output_type": "stream",
     "text": [
      "Fetching AUD to CAD rates:   0%|          | 2/1441 [01:14<17:36:20, 44.04s/it]"
     ]
    },
    {
     "name": "stdout",
     "output_type": "stream",
     "text": [
      "Error on 2025-01-01 00:01:00: HTTPSConnectionPool(host='theforexapi.com', port=443): Max retries exceeded with url: /api/2025-01-01?base=AUD&symbols=CAD&rtype=fpy (Caused by ConnectTimeoutError(<urllib3.connection.HTTPSConnection object at 0x10c50d000>, 'Connection to theforexapi.com timed out. (connect timeout=None)'))\n",
      "Error on 2025-01-01 00:03:00: HTTPSConnectionPool(host='theforexapi.com', port=443): Max retries exceeded with url: /api/2025-01-01?base=AUD&symbols=CAD&rtype=fpy (Caused by ConnectTimeoutError(<urllib3.connection.HTTPSConnection object at 0x10c50ec80>, 'Connection to theforexapi.com timed out. (connect timeout=None)'))\n",
      "Error on 2025-01-01 00:06:00: HTTPSConnectionPool(host='theforexapi.com', port=443): Max retries exceeded with url: /api/2025-01-01?base=AUD&symbols=CAD&rtype=fpy (Caused by ConnectTimeoutError(<urllib3.connection.HTTPSConnection object at 0x10c50f250>, 'Connection to theforexapi.com timed out. (connect timeout=None)'))\n",
      "Error on 2025-01-01 00:05:00: HTTPSConnectionPool(host='theforexapi.com', port=443): Max retries exceeded with url: /api/2025-01-01?base=AUD&symbols=CAD&rtype=fpy (Caused by ConnectTimeoutError(<urllib3.connection.HTTPSConnection object at 0x10c50f850>, 'Connection to theforexapi.com timed out. (connect timeout=None)'))\n",
      "Error on 2025-01-01 00:07:00: HTTPSConnectionPool(host='theforexapi.com', port=443): Max retries exceeded with url: /api/2025-01-01?base=AUD&symbols=CAD&rtype=fpy (Caused by ConnectTimeoutError(<urllib3.connection.HTTPSConnection object at 0x10c4a99c0>, 'Connection to theforexapi.com timed out. (connect timeout=None)'))\n",
      "Error on 2025-01-01 00:09:00: HTTPSConnectionPool(host='theforexapi.com', port=443): Max retries exceeded with url: /api/2025-01-01?base=AUD&symbols=CAD&rtype=fpy (Caused by ConnectTimeoutError(<urllib3.connection.HTTPSConnection object at 0x10d01e770>, 'Connection to theforexapi.com timed out. (connect timeout=None)'))\n",
      "Error on 2025-01-01 00:08:00: HTTPSConnectionPool(host='theforexapi.com', port=443): Max retries exceeded with url: /api/2025-01-01?base=AUD&symbols=CAD&rtype=fpy (Caused by ConnectTimeoutError(<urllib3.connection.HTTPSConnection object at 0x10d01e200>, 'Connection to theforexapi.com timed out. (connect timeout=None)'))\n"
     ]
    },
    {
     "name": "stderr",
     "output_type": "stream",
     "text": [
      "Fetching AUD to CAD rates:   1%|          | 11/1441 [01:15<2:03:19,  5.17s/it]"
     ]
    },
    {
     "name": "stdout",
     "output_type": "stream",
     "text": [
      "Error on 2025-01-01 00:10:00: HTTPSConnectionPool(host='theforexapi.com', port=443): Max retries exceeded with url: /api/2025-01-01?base=AUD&symbols=CAD&rtype=fpy (Caused by ConnectTimeoutError(<urllib3.connection.HTTPSConnection object at 0x10d01ea10>, 'Connection to theforexapi.com timed out. (connect timeout=None)'))\n",
      "Error on 2025-01-01 00:18:00: Currency Rates Source Not Ready\n"
     ]
    },
    {
     "name": "stderr",
     "output_type": "stream",
     "text": [
      "Fetching AUD to CAD rates:   1%|          | 13/1441 [01:16<1:39:48,  4.19s/it]"
     ]
    },
    {
     "name": "stdout",
     "output_type": "stream",
     "text": [
      "Error on 2025-01-01 00:12:00: HTTPSConnectionPool(host='theforexapi.com', port=443): Max retries exceeded with url: /api/2025-01-01?base=AUD&symbols=CAD&rtype=fpy (Caused by ConnectTimeoutError(<urllib3.connection.HTTPSConnection object at 0x10c50d8a0>, 'Connection to theforexapi.com timed out. (connect timeout=None)'))\n"
     ]
    },
    {
     "name": "stderr",
     "output_type": "stream",
     "text": [
      "Fetching AUD to CAD rates:   1%|          | 17/1441 [01:22<1:55:14,  4.86s/it]\n"
     ]
    },
    {
     "name": "stdout",
     "output_type": "stream",
     "text": [
      "Error on 2025-01-01 00:20:00: Currency Rates Source Not Ready\n"
     ]
    }
   ],
   "source": [
    "c = CurrencyRates()\n",
    "\n",
    "start_date = datetime(2025, 1, 1)\n",
    "end_date = datetime(2025, 1, 2)\n",
    "\n",
    "date_range = pd.date_range(start=start_date, end=end_date, freq='T')\n",
    "\n",
    "df = pd.DataFrame(index=date_range, columns=[\"AUD to CAD\"])\n",
    "\n",
    "def fetch_rate(date):\n",
    "    try:\n",
    "        rate = c.get_rate('AUD', 'CAD', date)\n",
    "        return date, rate\n",
    "    except Exception as e:\n",
    "        print(f\"Error on {date}: {e}\")\n",
    "        return date, None\n",
    "\n",
    "with ThreadPoolExecutor(max_workers=10) as executor:\n",
    "    results = list(tqdm(executor.map(fetch_rate, date_range),\n",
    "                   total=len(date_range), desc=\"Fetching AUD to CAD rates\"))\n",
    "\n",
    "for date, rate in results:\n",
    "    df.at[date, \"AUD to CAD\"] = rate\n",
    "\n",
    "df = df.astype(float)\n",
    "\n",
    "df.head()"
   ]
  }
 ],
 "metadata": {
  "kernelspec": {
   "display_name": "env",
   "language": "python",
   "name": "python3"
  },
  "language_info": {
   "codemirror_mode": {
    "name": "ipython",
    "version": 3
   },
   "file_extension": ".py",
   "mimetype": "text/x-python",
   "name": "python",
   "nbconvert_exporter": "python",
   "pygments_lexer": "ipython3",
   "version": "3.10.4"
  }
 },
 "nbformat": 4,
 "nbformat_minor": 2
}
